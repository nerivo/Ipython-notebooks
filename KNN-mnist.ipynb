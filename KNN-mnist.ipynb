{
 "metadata": {
  "name": ""
 },
 "nbformat": 3,
 "nbformat_minor": 0,
 "worksheets": [
  {
   "cells": [
    {
     "cell_type": "markdown",
     "metadata": {},
     "source": [
      "# k-Nearest Neighbor Methods and Image Data\n",
      "\n",
      "Source: http://nbviewer.ipython.org/github/amplab/datascience-sp14/blob/master/lab7/lab7.ipynb\n",
      "\n",
      "In this lab we will explore MNIST, a classic machine learning data set of images of handwritten digits (i.e., 0, 1, 2, 3, ...).\n",
      "In addition, we will investigate an intuitive, yet powerful learning method called k-nearest neighbors (KNN).\n",
      "Even though the type of data is different from what we've worked with so far, we'll see how to apply familiar tools to the data, namely, scikit learn and matplotlib for machine learning and plotting in python.\n",
      "\n",
      "And if you haven't already, fetch the data by running to following code (it will download into the `DATA_PATH` directory):"
     ]
    },
    {
     "cell_type": "code",
     "collapsed": false,
     "input": [
      "%pylab inline\n",
      "import pylab\n",
      "from sklearn.datasets import fetch_mldata\n",
      "DATA_PATH = '~/data'\n",
      "mnist = fetch_mldata('MNIST original', data_home=DATA_PATH)"
     ],
     "language": "python",
     "metadata": {},
     "outputs": [
      {
       "output_type": "stream",
       "stream": "stdout",
       "text": [
        "Populating the interactive namespace from numpy and matplotlib\n"
       ]
      }
     ],
     "prompt_number": 1
    },
    {
     "cell_type": "markdown",
     "metadata": {},
     "source": [
      "## MNIST\n",
      "\n",
      "<center>\n",
      "    <img src=\"http://3.bp.blogspot.com/_UpN7DfJA0j4/TJtUBWPk0SI/AAAAAAAAABY/oWPMtmqJn3k/s320/mnist_originals.png\">\n",
      "</center>\n",
      "\n",
      "The [MNIST database](http://yann.lecun.com/exdb/mnist/) of handwritten digits is a collection of labeled images that has been used to evaluate machine learning techniques since the '90's.\n",
      "The core application of the MNIST data is to train computer vision systems to recognize handwritten text.\n",
      "The post office, for example, is a major user of such systems---addresses on letters and packages are all photographed, read, and routed digitally, with only a few ambiguous cases verified by a human.\n",
      "\n",
      "The MNIST data set has also become a reliable benchmark for learning methods.\n",
      "It's small, but not tiny, and the data dimensionality (28x28 pixels) is big enough to cause some \"curse of dimensionality\" issues.\n",
      "Also, the problem is highly non-linear, meaning a linear classification methods (like linear regression, but for predicting discete categories) don't perform so well on the raw data.\n",
      "The MNIST [website](http://yann.lecun.com/exdb/mnist/) reports an extensive list of results obtained by different machine learning models, including neural nets, SVM, nearest neighbors, and others.\n",
      "\n",
      "The data consists of 60,000 training images and 10,000 test images.\n",
      "Each image is a 28x28 pixel, grayscale picture of a digit written either by a highschool student or an employee of the US Census Bureau.\n",
      "The images have all been preprocessed to be clean and regular: only one digit appears in each image, and it appears directly in the center of the image.\n",
      "\n",
      "The goal of the benchmark is to fit a model to the training set, and then use that model to predict which digit is in each of the test images.\n",
      "The best results achieve a classification error rate of less than half of one percent.\n",
      "This is often described as the \"human error rate,\" because if you ask people to classify the images, they will also find about 0.5% of them to be comepletely inscutable."
     ]
    },
    {
     "cell_type": "markdown",
     "metadata": {},
     "source": [
      "### MNIST Data\n",
      "\n",
      "Let's take a look at the data.\n",
      "MNIST data is easy to load with the built in scikit learn `datasets` module.\n",
      "Make sure you've loaded the data set by running the code at the top of the lab.\n",
      "\n",
      "The image data itself is in `mnist.data`, and it's stored in a numpy [n-dimensional array](http://docs.scipy.org/doc/numpy/reference/arrays.ndarray.html) (n=2 in this case).\n",
      "Numpy arrays are a vector/matrix data structure that provide high performance numerical computing.\n",
      "\n",
      "We can find out the dimensions of the array with its `shape` property:"
     ]
    },
    {
     "cell_type": "code",
     "collapsed": false,
     "input": [
      "mnist.data.shape"
     ],
     "language": "python",
     "metadata": {},
     "outputs": [
      {
       "metadata": {},
       "output_type": "pyout",
       "prompt_number": 2,
       "text": [
        "(70000, 784)"
       ]
      }
     ],
     "prompt_number": 2
    },
    {
     "cell_type": "markdown",
     "metadata": {},
     "source": [
      "There are 70,000 rows and 784 columns.\n",
      "So each row is an image (60,0000 training images plus 10,000 test ones gives 70,000 total), and each column is a pixel value (784 = 28 * 28).\n",
      "\n",
      "Like Pandas DataFrames, numpy arrays give us a simple interface to summary statistics and subsets of the data.\n",
      "\n",
      "Numpy arrays are indexed dimension-wise, with each dimension separated by a column:"
     ]
    },
    {
     "cell_type": "code",
     "collapsed": false,
     "input": [
      "row = mnist.data[0,:] # First row of the array\n",
      "col = mnist.data[:,0] # First column of the array\n",
      "\n",
      "print row.shape\n",
      "print col.shape"
     ],
     "language": "python",
     "metadata": {},
     "outputs": [
      {
       "output_type": "stream",
       "stream": "stdout",
       "text": [
        "(784,)\n",
        "(70000,)\n"
       ]
      }
     ],
     "prompt_number": 3
    },
    {
     "cell_type": "markdown",
     "metadata": {},
     "source": [
      "In this syntax, the \":\" means \"ALL\", as in standard python indexing.\n",
      "All of the usual python range indexing syntax works for each dimension of the array.\n",
      "We can compute summary statistics, too:"
     ]
    },
    {
     "cell_type": "code",
     "collapsed": false,
     "input": [
      "print row.sum(), row.max(), row.min()\n",
      "print col.sum(), col.max(), col.min()\n",
      "\n",
      "print mnist.data[:10,:] # First ten rows\n",
      "print mnist.data[:,-10:] # Last ten columns"
     ],
     "language": "python",
     "metadata": {},
     "outputs": [
      {
       "output_type": "stream",
       "stream": "stdout",
       "text": [
        "31095 255 0\n",
        "0 0 0\n",
        "[[0 0 0 ..., 0 0 0]\n",
        " [0 0 0 ..., 0 0 0]\n",
        " [0 0 0 ..., 0 0 0]\n",
        " ..., \n",
        " [0 0 0 ..., 0 0 0]\n",
        " [0 0 0 ..., 0 0 0]\n",
        " [0 0 0 ..., 0 0 0]]\n",
        "[[0 0 0 ..., 0 0 0]\n",
        " [0 0 0 ..., 0 0 0]\n",
        " [0 0 0 ..., 0 0 0]\n",
        " ..., \n",
        " [0 0 0 ..., 0 0 0]\n",
        " [0 0 0 ..., 0 0 0]\n",
        " [0 0 0 ..., 0 0 0]]\n"
       ]
      }
     ],
     "prompt_number": 4
    },
    {
     "cell_type": "markdown",
     "metadata": {},
     "source": [
      "\n",
      "Let's divide the array into two sets, one for training images and one for test:"
     ]
    },
    {
     "cell_type": "code",
     "collapsed": false,
     "input": [
      "train = mnist.data[:60000]\n",
      "test = mnist.data[60000:]"
     ],
     "language": "python",
     "metadata": {},
     "outputs": [],
     "prompt_number": 5
    },
    {
     "cell_type": "markdown",
     "metadata": {},
     "source": [
      "Note that we can drop the trailing \",:\" when we want to just index the first dimension."
     ]
    },
    {
     "cell_type": "markdown",
     "metadata": {},
     "source": [
      "## Visualizing Image Data\n",
      "\n",
      "One of the nicest things about image data is that it is naturally visualized and understood.\n",
      "First, let's take a look at the raw data in the first image in the data set:\n",
      "\n"
     ]
    },
    {
     "cell_type": "code",
     "collapsed": false,
     "input": [
      "img = mnist.data[0]\n",
      "print img"
     ],
     "language": "python",
     "metadata": {},
     "outputs": [
      {
       "output_type": "stream",
       "stream": "stdout",
       "text": [
        "[  0   0   0   0   0   0   0   0   0   0   0   0   0   0   0   0   0   0\n",
        "   0   0   0   0   0   0   0   0   0   0   0   0   0   0   0   0   0   0\n",
        "   0   0   0   0   0   0   0   0   0   0   0   0   0   0   0   0   0   0\n",
        "   0   0   0   0   0   0   0   0   0   0   0   0   0   0   0   0   0   0\n",
        "   0   0   0   0   0   0   0   0   0   0   0   0   0   0   0   0   0   0\n",
        "   0   0   0   0   0   0   0   0   0   0   0   0   0   0   0   0   0   0\n",
        "   0   0   0   0   0   0   0   0   0   0   0   0   0   0   0   0   0   0\n",
        "   0  51 159 253 159  50   0   0   0   0   0   0   0   0   0   0   0   0\n",
        "   0   0   0   0   0   0   0   0   0   0  48 238 252 252 252 237   0   0\n",
        "   0   0   0   0   0   0   0   0   0   0   0   0   0   0   0   0   0   0\n",
        "   0  54 227 253 252 239 233 252  57   6   0   0   0   0   0   0   0   0\n",
        "   0   0   0   0   0   0   0   0   0  10  60 224 252 253 252 202  84 252\n",
        " 253 122   0   0   0   0   0   0   0   0   0   0   0   0   0   0   0   0\n",
        "   0 163 252 252 252 253 252 252  96 189 253 167   0   0   0   0   0   0\n",
        "   0   0   0   0   0   0   0   0   0   0  51 238 253 253 190 114 253 228\n",
        "  47  79 255 168   0   0   0   0   0   0   0   0   0   0   0   0   0   0\n",
        "   0  48 238 252 252 179  12  75 121  21   0   0 253 243  50   0   0   0\n",
        "   0   0   0   0   0   0   0   0   0   0  38 165 253 233 208  84   0   0\n",
        "   0   0   0   0 253 252 165   0   0   0   0   0   0   0   0   0   0   0\n",
        "   0   7 178 252 240  71  19  28   0   0   0   0   0   0 253 252 195   0\n",
        "   0   0   0   0   0   0   0   0   0   0   0  57 252 252  63   0   0   0\n",
        "   0   0   0   0   0   0 253 252 195   0   0   0   0   0   0   0   0   0\n",
        "   0   0   0 198 253 190   0   0   0   0   0   0   0   0   0   0 255 253\n",
        " 196   0   0   0   0   0   0   0   0   0   0   0  76 246 252 112   0   0\n",
        "   0   0   0   0   0   0   0   0 253 252 148   0   0   0   0   0   0   0\n",
        "   0   0   0   0  85 252 230  25   0   0   0   0   0   0   0   0   7 135\n",
        " 253 186  12   0   0   0   0   0   0   0   0   0   0   0  85 252 223   0\n",
        "   0   0   0   0   0   0   0   7 131 252 225  71   0   0   0   0   0   0\n",
        "   0   0   0   0   0   0  85 252 145   0   0   0   0   0   0   0  48 165\n",
        " 252 173   0   0   0   0   0   0   0   0   0   0   0   0   0   0  86 253\n",
        " 225   0   0   0   0   0   0 114 238 253 162   0   0   0   0   0   0   0\n",
        "   0   0   0   0   0   0   0   0  85 252 249 146  48  29  85 178 225 253\n",
        " 223 167  56   0   0   0   0   0   0   0   0   0   0   0   0   0   0   0\n",
        "  85 252 252 252 229 215 252 252 252 196 130   0   0   0   0   0   0   0\n",
        "   0   0   0   0   0   0   0   0   0   0  28 199 252 252 253 252 252 233\n",
        " 145   0   0   0   0   0   0   0   0   0   0   0   0   0   0   0   0   0\n",
        "   0   0   0  25 128 252 253 252 141  37   0   0   0   0   0   0   0   0\n",
        "   0   0   0   0   0   0   0   0   0   0   0   0   0   0   0   0   0   0\n",
        "   0   0   0   0   0   0   0   0   0   0   0   0   0   0   0   0   0   0\n",
        "   0   0   0   0   0   0   0   0   0   0   0   0   0   0   0   0   0   0\n",
        "   0   0   0   0   0   0   0   0   0   0   0   0   0   0   0   0   0   0\n",
        "   0   0   0   0   0   0   0   0   0   0   0   0   0   0   0   0   0   0\n",
        "   0   0   0   0   0   0   0   0   0   0   0   0   0   0   0   0   0   0\n",
        "   0   0   0   0   0   0   0   0   0   0]\n"
       ]
      }
     ],
     "prompt_number": 6
    },
    {
     "cell_type": "markdown",
     "metadata": {},
     "source": [
      "These are all the pixel values in the image.\n",
      "We can see some patterns (e.g., the edges are empty), but it's hard to interpret.\n",
      "In fact, we can can a much better view if we use the `imshow` method from matplotlib to display an image:"
     ]
    },
    {
     "cell_type": "code",
     "collapsed": false,
     "input": [
      "pylab.imshow(img.reshape(28, 28), cmap=\"Greys\")"
     ],
     "language": "python",
     "metadata": {},
     "outputs": [
      {
       "metadata": {},
       "output_type": "pyout",
       "prompt_number": 7,
       "text": [
        "<matplotlib.image.AxesImage at 0x1109539d0>"
       ]
      },
      {
       "metadata": {},
       "output_type": "display_data",
       "png": "[encoded data removed]",
       "text": [
        "<matplotlib.figure.Figure at 0x10d9c05d0>"
       ]
      }
     ],
     "prompt_number": 7
    },
    {
     "cell_type": "markdown",
     "metadata": {},
     "source": [
      "It's a zero!"
     ]
    },
    {
     "cell_type": "markdown",
     "metadata": {},
     "source": [
      "## Unsupervised KNN\n",
      "\n",
      "Next, we're interested in uncovering more structure in the MNIST data.\n",
      "For example, we want to be able to answer questions like \"how similar are people's handwriting?\" and \"how distinct are the different digits?\"\n",
      "If we get a sense of the variance in the data, and of how tighly it is clustered, we can begin to see a good approach to modeling.\n",
      "\n",
      "In the spirit of doing the simplest possible thing that might work, we can look at nearest neighbors using simple Euclidean distance between pixels.\n",
      "The assumption is that most digits look the same, so they should have similar values in individual pixels.\n",
      "Let's find out if this assumption is a good one.\n",
      "\n",
      "We can use the [`sklearn.neighbors`](http://scikit-learn.org/stable/modules/neighbors.html) module to compute nearest neighbors, in particular with the [`NearestNeighbors`](http://scikit-learn.org/stable/modules/generated/sklearn.neighbors.NearestNeighbors.html#sklearn.neighbors.NearestNeighbors) class:\n"
     ]
    },
    {
     "cell_type": "code",
     "collapsed": false,
     "input": [
      "%%time\n",
      "from sklearn.neighbors import NearestNeighbors\n",
      "model = NearestNeighbors(algorithm='brute').fit(train)"
     ],
     "language": "python",
     "metadata": {},
     "outputs": [
      {
       "output_type": "stream",
       "stream": "stdout",
       "text": [
        "CPU times: user 12.7 ms, sys: 15.3 ms, total: 28 ms\n",
        "Wall time: 65.7 ms\n"
       ]
      }
     ],
     "prompt_number": 8
    },
    {
     "cell_type": "markdown",
     "metadata": {},
     "source": [
      "Note how fast we built a nearest neighbors model, just a few microseconds!\n",
      "This is because we're using the brute force implementation (`algorithm='brute'`), which simple stores the training data to build a model, and does a full pairwise comparison at query time.\n",
      "\n",
      "Let's query our new model.  We can fetch the *k* nearest neighbors with the `kneighbors` method:"
     ]
    },
    {
     "cell_type": "code",
     "collapsed": false,
     "input": [
      "%%time\n",
      "query_img = test[0] # change for different example.\n",
      "_, result = model.kneighbors(query_img, n_neighbors=4)"
     ],
     "language": "python",
     "metadata": {},
     "outputs": [
      {
       "output_type": "stream",
       "stream": "stdout",
       "text": [
        "CPU times: user 455 ms, sys: 281 ms, total: 736 ms\n",
        "Wall time: 584 ms\n"
       ]
      }
     ],
     "prompt_number": 9
    },
    {
     "cell_type": "markdown",
     "metadata": {},
     "source": [
      "Notice that query time is significant, even for a single image.\n",
      "Also, notice that `kneighbors` returns two values.\n",
      "The first, which we will ignore, are the distance values to the nearest neighbors.\n",
      "The second is a list of indices where we can look up the nearest neighbors in the training set.\n",
      "\n",
      "With the results, now we can see how we did."
     ]
    },
    {
     "cell_type": "code",
     "collapsed": false,
     "input": [
      "print result"
     ],
     "language": "python",
     "metadata": {},
     "outputs": [
      {
       "output_type": "stream",
       "stream": "stdout",
       "text": [
        "[[2857 5849 3393 3209]]\n"
       ]
      }
     ],
     "prompt_number": 10
    },
    {
     "cell_type": "markdown",
     "metadata": {},
     "source": [
      "There are four results, as expected.\n",
      "Let's print them out with the utility function below:"
     ]
    },
    {
     "cell_type": "code",
     "collapsed": false,
     "input": [
      "# Display several images in a row\n",
      "def show(imgs, n=1):\n",
      "    fig = pylab.figure()\n",
      "    for i in xrange(0, n):\n",
      "        fig.add_subplot(1, n, i, xticklabels=[], yticklabels=[])\n",
      "        if n == 1:\n",
      "            img = imgs\n",
      "        else:\n",
      "            img = imgs[i]\n",
      "        pylab.imshow(img.reshape(28, 28), cmap=\"Greys\")"
     ],
     "language": "python",
     "metadata": {},
     "outputs": [],
     "prompt_number": 11
    },
    {
     "cell_type": "code",
     "collapsed": false,
     "input": [
      "show(query_img)\n",
      "show(train[result[0],:], len(result[0]))"
     ],
     "language": "python",
     "metadata": {},
     "outputs": [
      {
       "metadata": {},
       "output_type": "display_data",
       "png": "[encoded data removed]",
       "text": [
        "<matplotlib.figure.Figure at 0x113e71150>"
       ]
      },
      {
       "metadata": {},
       "output_type": "display_data",
       "png": "[encoded data removed]",
       "text": [
        "<matplotlib.figure.Figure at 0x113e71110>"
       ]
      }
     ],
     "prompt_number": 12
    },
    {
     "cell_type": "markdown",
     "metadata": {},
     "source": [
      "The neighbors look pretty good!\n",
      "Importantly, they are all zeros.\n",
      "That means that to some extent, at least, our assumption about images of the same digit being \"close\" to one another in pixel-space is a good one.\n",
      "\n",
      "Accuracy of this vs human and state of the art"
     ]
    },
    {
     "cell_type": "markdown",
     "metadata": {},
     "source": [
      "## KNN Classification\n",
      "\n",
      "We can validate our model in a more rigorous way by using it to predict digits.\n",
      "Scikit learn provides a class for supervised nearest neighbors fitting called [`KNeighborsClassifier`](http://scikit-learn.org/stable/modules/generated/sklearn.neighbors.KNeighborsClassifier.html#sklearn.neighbors.KNeighborsClassifier).\n",
      "It is very similar to the `NearestNeighbors` class, but it accepts labels when fitting a model, and it provides methods for making label predictions for test data.\n",
      "\n",
      "The MNIST labels are in `mnist.target`.\n",
      "Let's split them into training and test sets as we did with the image data:"
     ]
    },
    {
     "cell_type": "code",
     "collapsed": false,
     "input": [
      "train_labels = mnist.target[:60000]\n",
      "test_labels = mnist.target[60000:]\n",
      "test_labels_sample = test_labels[::100]\n",
      "test_samples = test[::100]"
     ],
     "language": "python",
     "metadata": {},
     "outputs": [],
     "prompt_number": 13
    },
    {
     "cell_type": "code",
     "collapsed": false,
     "input": [
      "from sklearn.neighbors import KNeighborsClassifier\n",
      "model = KNeighborsClassifier(n_neighbors=4, algorithm='brute').fit(train, train_labels)\n",
      "accuracy = model.score(test_samples, test_labels_sample)\n",
      "print 'error rate: %s percent' % (100-accuracy*100)"
     ],
     "language": "python",
     "metadata": {},
     "outputs": [
      {
       "output_type": "stream",
       "stream": "stdout",
       "text": [
        "error rate: 3.0 percent\n"
       ]
      }
     ],
     "prompt_number": 14
    },
    {
     "cell_type": "markdown",
     "metadata": {},
     "source": [
      "Human error rate is estimated at 2.5% (the whole test set has not been tested)\n",
      "\n",
      "The state of the art (http://cs.nyu.edu/~wanli/dropc/) has an 0.21% error rate."
     ]
    }
   ],
   "metadata": {}
  }
 ]
}
